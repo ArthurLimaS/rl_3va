{
 "cells": [
  {
   "cell_type": "markdown",
   "metadata": {},
   "source": [
    "# Escolher algum ambiente\n",
    "\n",
    "Foi escolhido como ambiente de estudo o '**Intersection**', disponível em: http://highway-env.farama.org/environments/intersection/"
   ]
  },
  {
   "cell_type": "code",
   "execution_count": 3,
   "metadata": {},
   "outputs": [
    {
     "data": {
      "text/plain": [
       "{'observation': {'type': 'Kinematics',\n",
       "  'vehicles_count': 5,\n",
       "  'features': ['presence',\n",
       "   'x',\n",
       "   'y',\n",
       "   'vx',\n",
       "   'vy',\n",
       "   'long_off',\n",
       "   'lat_off',\n",
       "   'ang_off']},\n",
       " 'action': {'type': 'ContinuousAction',\n",
       "  'steering_range': [-1.0471975511965976, 1.0471975511965976],\n",
       "  'longitudinal': True,\n",
       "  'lateral': True,\n",
       "  'dynamical': True},\n",
       " 'simulation_frequency': 15,\n",
       " 'policy_frequency': 1,\n",
       " 'other_vehicles_type': 'highway_env.vehicle.behavior.IDMVehicle',\n",
       " 'screen_width': 600,\n",
       " 'screen_height': 600,\n",
       " 'centering_position': [0.5, 0.6],\n",
       " 'scaling': 7.15,\n",
       " 'show_trajectories': False,\n",
       " 'render_agent': True,\n",
       " 'offscreen_rendering': False,\n",
       " 'manual_control': False,\n",
       " 'real_time_rendering': False,\n",
       " 'duration': 13,\n",
       " 'destination': 'o1',\n",
       " 'controlled_vehicles': 1,\n",
       " 'initial_vehicle_count': 10,\n",
       " 'spawn_probability': 0.6,\n",
       " 'collision_reward': -5,\n",
       " 'high_speed_reward': 1,\n",
       " 'arrived_reward': 1,\n",
       " 'reward_speed_range': [7.0, 9.0],\n",
       " 'normalize_reward': False,\n",
       " 'offroad_terminal': False}"
      ]
     },
     "execution_count": 3,
     "metadata": {},
     "output_type": "execute_result"
    }
   ],
   "source": [
    "import gymnasium as gym\n",
    "\n",
    "env = gym.make(\"intersection-v1\", render_mode='rgb_array')\n",
    "env.unwrapped.config"
   ]
  },
  {
   "cell_type": "code",
   "execution_count": 4,
   "metadata": {},
   "outputs": [],
   "source": [
    "env.reset()\n",
    "\n",
    "for _ in range(1_000_000):\n",
    "    action = env.action_space.sample()\n",
    "    obs, reward, done, truncated, info = env.step(action)\n",
    "    env.render()\n",
    "    if done or truncated:\n",
    "        break\n",
    "env.close()"
   ]
  },
  {
   "cell_type": "markdown",
   "metadata": {},
   "source": [
    "# Escolher algoritmos"
   ]
  },
  {
   "cell_type": "markdown",
   "metadata": {},
   "source": [
    "## DDPG (baseline)"
   ]
  },
  {
   "cell_type": "code",
   "execution_count": 5,
   "metadata": {},
   "outputs": [
    {
     "name": "stderr",
     "output_type": "stream",
     "text": [
      "2024-02-26 14:58:45.990700: I external/local_tsl/tsl/cuda/cudart_stub.cc:31] Could not find cuda drivers on your machine, GPU will not be used.\n",
      "2024-02-26 14:58:46.051938: E external/local_xla/xla/stream_executor/cuda/cuda_dnn.cc:9261] Unable to register cuDNN factory: Attempting to register factory for plugin cuDNN when one has already been registered\n",
      "2024-02-26 14:58:46.051981: E external/local_xla/xla/stream_executor/cuda/cuda_fft.cc:607] Unable to register cuFFT factory: Attempting to register factory for plugin cuFFT when one has already been registered\n",
      "2024-02-26 14:58:46.053853: E external/local_xla/xla/stream_executor/cuda/cuda_blas.cc:1515] Unable to register cuBLAS factory: Attempting to register factory for plugin cuBLAS when one has already been registered\n",
      "2024-02-26 14:58:46.064829: I tensorflow/core/platform/cpu_feature_guard.cc:182] This TensorFlow binary is optimized to use available CPU instructions in performance-critical operations.\n",
      "To enable the following instructions: AVX2 FMA, in other operations, rebuild TensorFlow with the appropriate compiler flags.\n",
      "2024-02-26 14:58:47.614805: W tensorflow/compiler/tf2tensorrt/utils/py_utils.cc:38] TF-TRT Warning: Could not find TensorRT\n"
     ]
    },
    {
     "data": {
      "application/vnd.jupyter.widget-view+json": {
       "model_id": "6485914275ba479f916c7ee0a3c09161",
       "version_major": 2,
       "version_minor": 0
      },
      "text/plain": [
       "Output()"
      ]
     },
     "metadata": {},
     "output_type": "display_data"
    },
    {
     "name": "stdout",
     "output_type": "stream",
     "text": [
      "Using cpu device\n",
      "Wrapping the env with a `Monitor` wrapper\n",
      "Wrapping the env in a DummyVecEnv.\n"
     ]
    },
    {
     "name": "stdout",
     "output_type": "stream",
     "text": [
      "---------------------------------\n",
      "| rollout/           |          |\n",
      "|    ep_len_mean     | 7.22     |\n",
      "|    ep_rew_mean     | 1.16     |\n",
      "| time/              |          |\n",
      "|    episodes        | 50       |\n",
      "|    fps             | 4        |\n",
      "|    time_elapsed    | 81       |\n",
      "|    total_timesteps | 361      |\n",
      "| train/             |          |\n",
      "|    actor_loss      | -0.902   |\n",
      "|    critic_loss     | 0.813    |\n",
      "|    learning_rate   | 0.001    |\n",
      "|    n_updates       | 256      |\n",
      "---------------------------------\n"
     ]
    },
    {
     "name": "stdout",
     "output_type": "stream",
     "text": [
      "---------------------------------\n",
      "| rollout/           |          |\n",
      "|    ep_len_mean     | 8.59     |\n",
      "|    ep_rew_mean     | 1.13     |\n",
      "| time/              |          |\n",
      "|    episodes        | 100      |\n",
      "|    fps             | 4        |\n",
      "|    time_elapsed    | 207      |\n",
      "|    total_timesteps | 859      |\n",
      "| train/             |          |\n",
      "|    actor_loss      | -1.21    |\n",
      "|    critic_loss     | 0.504    |\n",
      "|    learning_rate   | 0.001    |\n",
      "|    n_updates       | 757      |\n",
      "---------------------------------\n"
     ]
    },
    {
     "name": "stdout",
     "output_type": "stream",
     "text": [
      "---------------------------------\n",
      "| rollout/           |          |\n",
      "|    ep_len_mean     | 9.69     |\n",
      "|    ep_rew_mean     | 1.13     |\n",
      "| time/              |          |\n",
      "|    episodes        | 150      |\n",
      "|    fps             | 4        |\n",
      "|    time_elapsed    | 318      |\n",
      "|    total_timesteps | 1330     |\n",
      "| train/             |          |\n",
      "|    actor_loss      | -1.15    |\n",
      "|    critic_loss     | 0.629    |\n",
      "|    learning_rate   | 0.001    |\n",
      "|    n_updates       | 1220     |\n",
      "---------------------------------\n"
     ]
    },
    {
     "name": "stdout",
     "output_type": "stream",
     "text": [
      "---------------------------------\n",
      "| rollout/           |          |\n",
      "|    ep_len_mean     | 10       |\n",
      "|    ep_rew_mean     | 1.61     |\n",
      "| time/              |          |\n",
      "|    episodes        | 200      |\n",
      "|    fps             | 4        |\n",
      "|    time_elapsed    | 441      |\n",
      "|    total_timesteps | 1859     |\n",
      "| train/             |          |\n",
      "|    actor_loss      | -1.22    |\n",
      "|    critic_loss     | 0.756    |\n",
      "|    learning_rate   | 0.001    |\n",
      "|    n_updates       | 1754     |\n",
      "---------------------------------\n"
     ]
    },
    {
     "name": "stdout",
     "output_type": "stream",
     "text": [
      "---------------------------------\n",
      "| rollout/           |          |\n",
      "|    ep_len_mean     | 10.4     |\n",
      "|    ep_rew_mean     | 1.97     |\n",
      "| time/              |          |\n",
      "|    episodes        | 250      |\n",
      "|    fps             | 4        |\n",
      "|    time_elapsed    | 569      |\n",
      "|    total_timesteps | 2370     |\n",
      "| train/             |          |\n",
      "|    actor_loss      | -1.35    |\n",
      "|    critic_loss     | 0.652    |\n",
      "|    learning_rate   | 0.001    |\n",
      "|    n_updates       | 2260     |\n",
      "---------------------------------\n"
     ]
    },
    {
     "name": "stdout",
     "output_type": "stream",
     "text": [
      "---------------------------------\n",
      "| rollout/           |          |\n",
      "|    ep_len_mean     | 9.29     |\n",
      "|    ep_rew_mean     | 1.4      |\n",
      "| time/              |          |\n",
      "|    episodes        | 300      |\n",
      "|    fps             | 4        |\n",
      "|    time_elapsed    | 666      |\n",
      "|    total_timesteps | 2788     |\n",
      "| train/             |          |\n",
      "|    actor_loss      | -1.46    |\n",
      "|    critic_loss     | 0.586    |\n",
      "|    learning_rate   | 0.001    |\n",
      "|    n_updates       | 2678     |\n",
      "---------------------------------\n"
     ]
    },
    {
     "name": "stdout",
     "output_type": "stream",
     "text": [
      "---------------------------------\n",
      "| rollout/           |          |\n",
      "|    ep_len_mean     | 9.23     |\n",
      "|    ep_rew_mean     | 1.11     |\n",
      "| time/              |          |\n",
      "|    episodes        | 350      |\n",
      "|    fps             | 4        |\n",
      "|    time_elapsed    | 774      |\n",
      "|    total_timesteps | 3293     |\n",
      "| train/             |          |\n",
      "|    actor_loss      | -1.43    |\n",
      "|    critic_loss     | 0.733    |\n",
      "|    learning_rate   | 0.001    |\n",
      "|    n_updates       | 3191     |\n",
      "---------------------------------\n"
     ]
    },
    {
     "name": "stdout",
     "output_type": "stream",
     "text": [
      "---------------------------------\n",
      "| rollout/           |          |\n",
      "|    ep_len_mean     | 9.54     |\n",
      "|    ep_rew_mean     | 1.11     |\n",
      "| time/              |          |\n",
      "|    episodes        | 400      |\n",
      "|    fps             | 4        |\n",
      "|    time_elapsed    | 874      |\n",
      "|    total_timesteps | 3742     |\n",
      "| train/             |          |\n",
      "|    actor_loss      | -1.5     |\n",
      "|    critic_loss     | 0.767    |\n",
      "|    learning_rate   | 0.001    |\n",
      "|    n_updates       | 3639     |\n",
      "---------------------------------\n"
     ]
    },
    {
     "name": "stdout",
     "output_type": "stream",
     "text": [
      "---------------------------------\n",
      "| rollout/           |          |\n",
      "|    ep_len_mean     | 9.66     |\n",
      "|    ep_rew_mean     | 1.21     |\n",
      "| time/              |          |\n",
      "|    episodes        | 450      |\n",
      "|    fps             | 4        |\n",
      "|    time_elapsed    | 988      |\n",
      "|    total_timesteps | 4259     |\n",
      "| train/             |          |\n",
      "|    actor_loss      | -1.57    |\n",
      "|    critic_loss     | 0.69     |\n",
      "|    learning_rate   | 0.001    |\n",
      "|    n_updates       | 4155     |\n",
      "---------------------------------\n"
     ]
    },
    {
     "name": "stdout",
     "output_type": "stream",
     "text": [
      "---------------------------------\n",
      "| rollout/           |          |\n",
      "|    ep_len_mean     | 9.98     |\n",
      "|    ep_rew_mean     | 1.15     |\n",
      "| time/              |          |\n",
      "|    episodes        | 500      |\n",
      "|    fps             | 4        |\n",
      "|    time_elapsed    | 1091     |\n",
      "|    total_timesteps | 4740     |\n",
      "| train/             |          |\n",
      "|    actor_loss      | -1.48    |\n",
      "|    critic_loss     | 0.701    |\n",
      "|    learning_rate   | 0.001    |\n",
      "|    n_updates       | 4637     |\n",
      "---------------------------------\n"
     ]
    },
    {
     "data": {
      "text/html": [
       "<pre style=\"white-space:pre;overflow-x:auto;line-height:normal;font-family:Menlo,'DejaVu Sans Mono',consolas,'Courier New',monospace\"></pre>\n"
      ],
      "text/plain": []
     },
     "metadata": {},
     "output_type": "display_data"
    },
    {
     "data": {
      "text/html": [
       "<pre style=\"white-space:pre;overflow-x:auto;line-height:normal;font-family:Menlo,'DejaVu Sans Mono',consolas,'Courier New',monospace\">\n",
       "</pre>\n"
      ],
      "text/plain": [
       "\n"
      ]
     },
     "metadata": {},
     "output_type": "display_data"
    }
   ],
   "source": [
    "from stable_baselines3 import DDPG\n",
    "\n",
    "env = gym.make(\"intersection-v1\", render_mode='rgb_array')\n",
    "\n",
    "model = DDPG(\"MlpPolicy\", env, verbose=1)\n",
    "model.learn(total_timesteps=5000, log_interval=50, progress_bar=True)\n",
    "model.save(\"ddpg_intersection\")"
   ]
  },
  {
   "cell_type": "code",
   "execution_count": 17,
   "metadata": {},
   "outputs": [],
   "source": [
    "model = DDPG.load(\"ddpg_intersection\")\n",
    "\n",
    "env = gym.make(\"intersection-v1\", render_mode='rgb_array')\n",
    "obs, info = env.reset()\n",
    "\n",
    "while True:\n",
    "    env.render()\n",
    "    action, _states = model.predict(obs, deterministic=True)\n",
    "    obs, reward, terminated, truncated, info = env.step(action)\n",
    "    if terminated or truncated:\n",
    "        break\n",
    "\n",
    "env.close()"
   ]
  },
  {
   "cell_type": "markdown",
   "metadata": {},
   "source": [
    "## SAC (state of art)"
   ]
  },
  {
   "cell_type": "code",
   "execution_count": 11,
   "metadata": {},
   "outputs": [
    {
     "data": {
      "application/vnd.jupyter.widget-view+json": {
       "model_id": "347b1cc7394643768a67dacbf5fabdd0",
       "version_major": 2,
       "version_minor": 0
      },
      "text/plain": [
       "Output()"
      ]
     },
     "metadata": {},
     "output_type": "display_data"
    },
    {
     "name": "stdout",
     "output_type": "stream",
     "text": [
      "Using cpu device\n",
      "Wrapping the env with a `Monitor` wrapper\n",
      "Wrapping the env in a DummyVecEnv.\n"
     ]
    },
    {
     "name": "stdout",
     "output_type": "stream",
     "text": [
      "---------------------------------\n",
      "| rollout/           |          |\n",
      "|    ep_len_mean     | 5.98     |\n",
      "|    ep_rew_mean     | -0.219   |\n",
      "| time/              |          |\n",
      "|    episodes        | 50       |\n",
      "|    fps             | 3        |\n",
      "|    time_elapsed    | 85       |\n",
      "|    total_timesteps | 299      |\n",
      "| train/             |          |\n",
      "|    actor_loss      | -2.79    |\n",
      "|    critic_loss     | 1.4      |\n",
      "|    ent_coef        | 0.945    |\n",
      "|    ent_coef_loss   | -0.184   |\n",
      "|    learning_rate   | 0.0003   |\n",
      "|    n_updates       | 198      |\n",
      "---------------------------------\n"
     ]
    },
    {
     "name": "stdout",
     "output_type": "stream",
     "text": [
      "---------------------------------\n",
      "| rollout/           |          |\n",
      "|    ep_len_mean     | 6.39     |\n",
      "|    ep_rew_mean     | 0.0546   |\n",
      "| time/              |          |\n",
      "|    episodes        | 100      |\n",
      "|    fps             | 3        |\n",
      "|    time_elapsed    | 171      |\n",
      "|    total_timesteps | 639      |\n",
      "| train/             |          |\n",
      "|    actor_loss      | -3.82    |\n",
      "|    critic_loss     | 0.95     |\n",
      "|    ent_coef        | 0.852    |\n",
      "|    ent_coef_loss   | -0.537   |\n",
      "|    learning_rate   | 0.0003   |\n",
      "|    n_updates       | 538      |\n",
      "---------------------------------\n"
     ]
    },
    {
     "name": "stdout",
     "output_type": "stream",
     "text": [
      "---------------------------------\n",
      "| rollout/           |          |\n",
      "|    ep_len_mean     | 6.65     |\n",
      "|    ep_rew_mean     | 0.108    |\n",
      "| time/              |          |\n",
      "|    episodes        | 150      |\n",
      "|    fps             | 3        |\n",
      "|    time_elapsed    | 259      |\n",
      "|    total_timesteps | 964      |\n",
      "| train/             |          |\n",
      "|    actor_loss      | -4.14    |\n",
      "|    critic_loss     | 1.69     |\n",
      "|    ent_coef        | 0.772    |\n",
      "|    ent_coef_loss   | -0.869   |\n",
      "|    learning_rate   | 0.0003   |\n",
      "|    n_updates       | 863      |\n",
      "---------------------------------\n"
     ]
    },
    {
     "name": "stdout",
     "output_type": "stream",
     "text": [
      "---------------------------------\n",
      "| rollout/           |          |\n",
      "|    ep_len_mean     | 6.76     |\n",
      "|    ep_rew_mean     | 0.0667   |\n",
      "| time/              |          |\n",
      "|    episodes        | 200      |\n",
      "|    fps             | 3        |\n",
      "|    time_elapsed    | 345      |\n",
      "|    total_timesteps | 1315     |\n",
      "| train/             |          |\n",
      "|    actor_loss      | -4.03    |\n",
      "|    critic_loss     | 1.66     |\n",
      "|    ent_coef        | 0.695    |\n",
      "|    ent_coef_loss   | -1.19    |\n",
      "|    learning_rate   | 0.0003   |\n",
      "|    n_updates       | 1214     |\n",
      "---------------------------------\n"
     ]
    },
    {
     "name": "stdout",
     "output_type": "stream",
     "text": [
      "---------------------------------\n",
      "| rollout/           |          |\n",
      "|    ep_len_mean     | 7.72     |\n",
      "|    ep_rew_mean     | 0.314    |\n",
      "| time/              |          |\n",
      "|    episodes        | 250      |\n",
      "|    fps             | 3        |\n",
      "|    time_elapsed    | 456      |\n",
      "|    total_timesteps | 1736     |\n",
      "| train/             |          |\n",
      "|    actor_loss      | -4.19    |\n",
      "|    critic_loss     | 1.82     |\n",
      "|    ent_coef        | 0.613    |\n",
      "|    ent_coef_loss   | -1.6     |\n",
      "|    learning_rate   | 0.0003   |\n",
      "|    n_updates       | 1635     |\n",
      "---------------------------------\n"
     ]
    },
    {
     "name": "stdout",
     "output_type": "stream",
     "text": [
      "---------------------------------\n",
      "| rollout/           |          |\n",
      "|    ep_len_mean     | 8.51     |\n",
      "|    ep_rew_mean     | 0.349    |\n",
      "| time/              |          |\n",
      "|    episodes        | 300      |\n",
      "|    fps             | 3        |\n",
      "|    time_elapsed    | 571      |\n",
      "|    total_timesteps | 2166     |\n",
      "| train/             |          |\n",
      "|    actor_loss      | -4.36    |\n",
      "|    critic_loss     | 1.32     |\n",
      "|    ent_coef        | 0.54     |\n",
      "|    ent_coef_loss   | -1.91    |\n",
      "|    learning_rate   | 0.0003   |\n",
      "|    n_updates       | 2065     |\n",
      "---------------------------------\n"
     ]
    },
    {
     "name": "stdout",
     "output_type": "stream",
     "text": [
      "---------------------------------\n",
      "| rollout/           |          |\n",
      "|    ep_len_mean     | 8.61     |\n",
      "|    ep_rew_mean     | 0.16     |\n",
      "| time/              |          |\n",
      "|    episodes        | 350      |\n",
      "|    fps             | 3        |\n",
      "|    time_elapsed    | 695      |\n",
      "|    total_timesteps | 2597     |\n",
      "| train/             |          |\n",
      "|    actor_loss      | -4.66    |\n",
      "|    critic_loss     | 1.34     |\n",
      "|    ent_coef        | 0.477    |\n",
      "|    ent_coef_loss   | -2.3     |\n",
      "|    learning_rate   | 0.0003   |\n",
      "|    n_updates       | 2496     |\n",
      "---------------------------------\n"
     ]
    },
    {
     "name": "stdout",
     "output_type": "stream",
     "text": [
      "---------------------------------\n",
      "| rollout/           |          |\n",
      "|    ep_len_mean     | 8.74     |\n",
      "|    ep_rew_mean     | 0.333    |\n",
      "| time/              |          |\n",
      "|    episodes        | 400      |\n",
      "|    fps             | 3        |\n",
      "|    time_elapsed    | 808      |\n",
      "|    total_timesteps | 3040     |\n",
      "| train/             |          |\n",
      "|    actor_loss      | -3.76    |\n",
      "|    critic_loss     | 1.31     |\n",
      "|    ent_coef        | 0.419    |\n",
      "|    ent_coef_loss   | -2.69    |\n",
      "|    learning_rate   | 0.0003   |\n",
      "|    n_updates       | 2939     |\n",
      "---------------------------------\n"
     ]
    },
    {
     "name": "stdout",
     "output_type": "stream",
     "text": [
      "---------------------------------\n",
      "| rollout/           |          |\n",
      "|    ep_len_mean     | 9.03     |\n",
      "|    ep_rew_mean     | 0.38     |\n",
      "| time/              |          |\n",
      "|    episodes        | 450      |\n",
      "|    fps             | 3        |\n",
      "|    time_elapsed    | 931      |\n",
      "|    total_timesteps | 3500     |\n",
      "| train/             |          |\n",
      "|    actor_loss      | -4.07    |\n",
      "|    critic_loss     | 1.44     |\n",
      "|    ent_coef        | 0.366    |\n",
      "|    ent_coef_loss   | -3       |\n",
      "|    learning_rate   | 0.0003   |\n",
      "|    n_updates       | 3399     |\n",
      "---------------------------------\n"
     ]
    },
    {
     "name": "stdout",
     "output_type": "stream",
     "text": [
      "---------------------------------\n",
      "| rollout/           |          |\n",
      "|    ep_len_mean     | 8.67     |\n",
      "|    ep_rew_mean     | 0.115    |\n",
      "| time/              |          |\n",
      "|    episodes        | 500      |\n",
      "|    fps             | 3        |\n",
      "|    time_elapsed    | 1040     |\n",
      "|    total_timesteps | 3907     |\n",
      "| train/             |          |\n",
      "|    actor_loss      | -3.16    |\n",
      "|    critic_loss     | 1.66     |\n",
      "|    ent_coef        | 0.325    |\n",
      "|    ent_coef_loss   | -3.43    |\n",
      "|    learning_rate   | 0.0003   |\n",
      "|    n_updates       | 3806     |\n",
      "---------------------------------\n"
     ]
    },
    {
     "name": "stdout",
     "output_type": "stream",
     "text": [
      "---------------------------------\n",
      "| rollout/           |          |\n",
      "|    ep_len_mean     | 8.68     |\n",
      "|    ep_rew_mean     | 0.0224   |\n",
      "| time/              |          |\n",
      "|    episodes        | 550      |\n",
      "|    fps             | 3        |\n",
      "|    time_elapsed    | 1164     |\n",
      "|    total_timesteps | 4368     |\n",
      "| train/             |          |\n",
      "|    actor_loss      | -2.8     |\n",
      "|    critic_loss     | 1.61     |\n",
      "|    ent_coef        | 0.284    |\n",
      "|    ent_coef_loss   | -3.71    |\n",
      "|    learning_rate   | 0.0003   |\n",
      "|    n_updates       | 4267     |\n",
      "---------------------------------\n"
     ]
    },
    {
     "name": "stdout",
     "output_type": "stream",
     "text": [
      "---------------------------------\n",
      "| rollout/           |          |\n",
      "|    ep_len_mean     | 9.22     |\n",
      "|    ep_rew_mean     | 0.113    |\n",
      "| time/              |          |\n",
      "|    episodes        | 600      |\n",
      "|    fps             | 3        |\n",
      "|    time_elapsed    | 1291     |\n",
      "|    total_timesteps | 4829     |\n",
      "| train/             |          |\n",
      "|    actor_loss      | -2.5     |\n",
      "|    critic_loss     | 1.31     |\n",
      "|    ent_coef        | 0.248    |\n",
      "|    ent_coef_loss   | -4.08    |\n",
      "|    learning_rate   | 0.0003   |\n",
      "|    n_updates       | 4728     |\n",
      "---------------------------------\n"
     ]
    },
    {
     "data": {
      "text/html": [
       "<pre style=\"white-space:pre;overflow-x:auto;line-height:normal;font-family:Menlo,'DejaVu Sans Mono',consolas,'Courier New',monospace\"></pre>\n"
      ],
      "text/plain": []
     },
     "metadata": {},
     "output_type": "display_data"
    },
    {
     "data": {
      "text/html": [
       "<pre style=\"white-space:pre;overflow-x:auto;line-height:normal;font-family:Menlo,'DejaVu Sans Mono',consolas,'Courier New',monospace\">\n",
       "</pre>\n"
      ],
      "text/plain": [
       "\n"
      ]
     },
     "metadata": {},
     "output_type": "display_data"
    }
   ],
   "source": [
    "from stable_baselines3 import SAC\n",
    "\n",
    "env = gym.make(\"intersection-v1\", render_mode='rgb_array')\n",
    "\n",
    "model = SAC(\"MlpPolicy\", env, verbose=1)\n",
    "model.learn(total_timesteps=5000, log_interval=50, progress_bar=True)\n",
    "model.save(\"sac_intersection\")"
   ]
  },
  {
   "cell_type": "code",
   "execution_count": 21,
   "metadata": {},
   "outputs": [],
   "source": [
    "model = SAC.load(\"sac_intersection\")\n",
    "\n",
    "env = gym.make(\"intersection-v1\", render_mode='rgb_array')\n",
    "obs, info = env.reset()\n",
    "\n",
    "while True:\n",
    "    env.render()\n",
    "    action, _states = model.predict(obs, deterministic=True)\n",
    "    obs, reward, terminated, truncated, info = env.step(action)\n",
    "    if terminated or truncated:\n",
    "        break\n",
    "\n",
    "env.close()"
   ]
  },
  {
   "cell_type": "code",
   "execution_count": null,
   "metadata": {},
   "outputs": [],
   "source": []
  }
 ],
 "metadata": {
  "kernelspec": {
   "display_name": "base",
   "language": "python",
   "name": "python3"
  },
  "language_info": {
   "codemirror_mode": {
    "name": "ipython",
    "version": 3
   },
   "file_extension": ".py",
   "mimetype": "text/x-python",
   "name": "python",
   "nbconvert_exporter": "python",
   "pygments_lexer": "ipython3",
   "version": "3.9.13"
  }
 },
 "nbformat": 4,
 "nbformat_minor": 2
}
